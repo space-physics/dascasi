{
 "cells": [
  {
   "cell_type": "code",
   "execution_count": null,
   "metadata": {},
   "outputs": [],
   "source": [
    "import dascasi as du\n",
    "import dascasi.plots as dup\n",
    "from matplotlib.pyplot import show"
   ]
  },
  {
   "cell_type": "markdown",
   "metadata": {},
   "source": [
    "To get azimuth, elevation per pixel, include the optional second argument to du.load(). \n",
    "The azimuth, elevation data is not validated or checked.\n",
    "If the calibration data is from a different camera or camera position, the azimuth, elevation data will be incorrect.\n",
    "\n",
    "The quirk about specifying the filename cal_stem is that azimuth,elevation data are given as two files.\n",
    "The stem is the common part of the fullpath to these files."
   ]
  },
  {
   "cell_type": "code",
   "execution_count": null,
   "metadata": {
    "scrolled": true
   },
   "outputs": [],
   "source": [
    "data_dir = \"../src/dascasi/tests/data\"\n",
    "cal_stem = \"../src/dascasi/cal/PKR_DASC_20110112\"\n",
    "\n",
    "imgs = du.load(data_dir, cal_stem)"
   ]
  },
  {
   "cell_type": "markdown",
   "metadata": {},
   "source": [
    "If you omit \"cal_stem\", `imgs` will not have \"az,el\" keys"
   ]
  },
  {
   "cell_type": "code",
   "execution_count": null,
   "metadata": {
    "scrolled": true
   },
   "outputs": [],
   "source": [
    "print(imgs.keys())"
   ]
  },
  {
   "cell_type": "code",
   "execution_count": null,
   "metadata": {
    "scrolled": true
   },
   "outputs": [],
   "source": [
    "dup.contour_azel(imgs, cal_stem)\n",
    "show()"
   ]
  }
 ],
 "metadata": {
  "kernelspec": {
   "display_name": "Python 3",
   "language": "python",
   "name": "python3"
  },
  "language_info": {
   "codemirror_mode": {
    "name": "ipython",
    "version": 3
   },
   "file_extension": ".py",
   "mimetype": "text/x-python",
   "name": "python",
   "nbconvert_exporter": "python",
   "pygments_lexer": "ipython3",
   "version": "3.8.3"
  }
 },
 "nbformat": 4,
 "nbformat_minor": 4
}
